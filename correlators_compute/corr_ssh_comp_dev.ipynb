{
 "cells": [
  {
   "cell_type": "code",
   "execution_count": 1,
   "metadata": {},
   "outputs": [],
   "source": [
    "#pragma cling add_include_path(\"/home/slava/itensor/\")\n",
    "#pragma cling add_library_path(\"/home/slava/itensor/lib\")\n",
    "#pragma cling load(\"libitensor.so\")\n",
    "#pragma cling load(\"libitensor-g.so\")\n",
    "#pragma cling load(\"/home/slava/itensor/itensor/all_mps.h\")\n",
    "using namespace itensor;\n",
    "#include \"xtensor/xarray.hpp\"\n",
    "\n",
    "\n",
    "using namespace xt;\n",
    "using namespace std;\n",
    "\n",
    "// #pragma cling add_include_path(\"/home/slava/boost/\")\n",
    "// #pragma cling add_library_path(\"/home/slava/boost/lib\")\n",
    "\n",
    "// #include \"boost/any.hpp\"\n",
    "\n",
    "using array_type = xt::xarray<double, xt::layout_type::row_major>;\n",
    "using shape_type = array_type::shape_type;"
   ]
  },
  {
   "cell_type": "code",
   "execution_count": 2,
   "metadata": {},
   "outputs": [],
   "source": [
    "int N = 10;\n",
    "SpinHalf sites(N);\n",
    "AutoMPO ampo(sites);"
   ]
  },
  {
   "cell_type": "code",
   "execution_count": 2,
   "metadata": {},
   "outputs": [],
   "source": [
    "char* op1, op2;"
   ]
  },
  {
   "cell_type": "code",
   "execution_count": 3,
   "metadata": {},
   "outputs": [
    {
     "name": "stderr",
     "output_type": "stream",
     "text": [
      "\u001b[1minput_line_12:2:8: \u001b[0m\u001b[0;1;35mwarning: \u001b[0m\u001b[1mISO C++11 does not allow conversion from string literal to 'char *' [-Wwritable-strings]\u001b[0m\n",
      " op1 = \"S+\";\n",
      "\u001b[0;1;32m       ^\n",
      "\u001b[0m"
     ]
    }
   ],
   "source": [
    "op1 = \"S+\";"
   ]
  },
  {
   "cell_type": "code",
   "execution_count": 4,
   "metadata": {},
   "outputs": [],
   "source": [
    "char op2[] = \"S+\";"
   ]
  },
  {
   "cell_type": "code",
   "execution_count": 5,
   "metadata": {},
   "outputs": [],
   "source": [
    "char op2[] = \"S+\";\n",
    "int ind1 = 1;\n",
    "int ind2 = 2;\n",
    "char op1[] = \"S+\";\n",
    "Complex coef = 1;"
   ]
  },
  {
   "cell_type": "code",
   "execution_count": 6,
   "metadata": {},
   "outputs": [],
   "source": [
    "Complex coef = 1;"
   ]
  },
  {
   "cell_type": "code",
   "execution_count": 10,
   "metadata": {},
   "outputs": [],
   "source": [
    "ampo += coef,op1,ind1,op2,ind2;"
   ]
  },
  {
   "cell_type": "code",
   "execution_count": 5,
   "metadata": {},
   "outputs": [
    {
     "name": "stderr",
     "output_type": "stream",
     "text": [
      "\u001b[1minput_line_14:2:7: \u001b[0m\u001b[0;1;31merror: \u001b[0m\u001b[1mno viable overloaded '+='\u001b[0m\n",
      " ampo += {0.5,\"S+\",1,\"S-\",2};\n",
      "\u001b[0;1;32m ~~~~ ^  ~~~~~~~~~~~~~~~~~~~\n",
      "\u001b[0m\u001b[1m/home/slava/itensor/itensor/qn.h:229:1: \u001b[0m\u001b[0;1;30mnote: \u001b[0mcandidate function not viable: no known conversion from 'itensor::AutoMPO' to 'itensor::QNVal &' for 1st argument\u001b[0m\n",
      "operator+=(QNVal& qva, QNVal const& qvb);\n",
      "\u001b[0;1;32m^\n",
      "\u001b[0m\u001b[1m/home/slava/itensor/itensor/qn.h:274:1: \u001b[0m\u001b[0;1;30mnote: \u001b[0mcandidate function not viable: no known conversion from 'itensor::AutoMPO' to 'itensor::QN &' for 1st argument\u001b[0m\n",
      "operator+=(QN & qa, QN const& qb);\n",
      "\u001b[0;1;32m^\n",
      "\u001b[0m\u001b[1m/home/slava/itensor/itensor/tensor/vec.h:66:1: \u001b[0m\u001b[0;1;30mnote: \u001b[0mcandidate function not viable: no known conversion from 'itensor::AutoMPO' to 'itensor::VectorRef' (aka\n",
      "      'itensor::TenRef<itensor::VecRangeT<0>, double>') for 1st argument\u001b[0m\n",
      "operator+=(VectorRef a, VectorRefc b);\n",
      "\u001b[0;1;32m^\n",
      "\u001b[0m\u001b[1m/home/slava/itensor/itensor/tensor/vec.h:94:1: \u001b[0m\u001b[0;1;30mnote: \u001b[0mcandidate function not viable: no known conversion from 'itensor::AutoMPO' to 'itensor::Vector &' (aka\n",
      "      'itensor::Ten<itensor::VecRangeT<0>, double> &') for 1st argument\u001b[0m\n",
      "operator+=(Vector & v, Vector const& other) { makeRef(v) += makeRef(other); return v; }\n",
      "\u001b[0;1;32m^\n",
      "\u001b[0m\u001b[1m/home/slava/itensor/itensor/tensor/vec.h:100:1: \u001b[0m\u001b[0;1;30mnote: \u001b[0mcandidate function not viable: no known conversion from 'itensor::AutoMPO' to 'itensor::Vector &' (aka\n",
      "      'itensor::Ten<itensor::VecRangeT<0>, double> &') for 1st argument\u001b[0m\n",
      "operator+=(Vector & v, VectorRefc other) {  makeRef(v) += other; return v; }\n",
      "\u001b[0;1;32m^\n",
      "\u001b[0m\u001b[1m/home/slava/itensor/itensor/tensor/vec.h:229:1: \u001b[0m\u001b[0;1;30mnote: \u001b[0mcandidate function not viable: no known conversion from 'itensor::AutoMPO' to 'itensor::VectorRef' (aka\n",
      "      'itensor::TenRef<itensor::VecRangeT<0>, double>') for 1st argument\u001b[0m\n",
      "operator+=(VectorRef a, Vector const& b) { a += makeRef(b); }\n",
      "\u001b[0;1;32m^\n",
      "\u001b[0m\u001b[1m/home/slava/itensor/itensor/tensor/mat.h:69:1: \u001b[0m\u001b[0;1;30mnote: \u001b[0mcandidate function not viable: no known conversion from 'itensor::AutoMPO' to 'const itensor::MatrixRef' (aka 'const\n",
      "      itensor::TenRef<itensor::MatRangeT<0>, double>') for 1st argument\u001b[0m\n",
      "operator+=(MatrixRef const& A, MatrixRefc const& B);\n",
      "\u001b[0;1;32m^\n",
      "\u001b[0m\u001b[1m/home/slava/itensor/itensor/tensor/mat.h:71:1: \u001b[0m\u001b[0;1;30mnote: \u001b[0mcandidate function not viable: no known conversion from 'itensor::AutoMPO' to 'const itensor::MatrixRef' (aka 'const\n",
      "      itensor::TenRef<itensor::MatRangeT<0>, double>') for 1st argument\u001b[0m\n",
      "operator+=(MatrixRef const& A, Matrix && B);\n",
      "\u001b[0;1;32m^\n",
      "\u001b[0m\u001b[1m/home/slava/itensor/itensor/tensor/mat.h:73:1: \u001b[0m\u001b[0;1;30mnote: \u001b[0mcandidate function not viable: no known conversion from 'itensor::AutoMPO' to 'const itensor::CMatrixRef' (aka 'const\n",
      "      itensor::TenRef<itensor::MatRangeT<0>, std::complex<double> >') for 1st argument\u001b[0m\n",
      "operator+=(CMatrixRef const& A, CMatrixRefc const& B);\n",
      "\u001b[0;1;32m^\n",
      "\u001b[0m\u001b[1m/home/slava/itensor/itensor/tensor/mat.h:75:1: \u001b[0m\u001b[0;1;30mnote: \u001b[0mcandidate function not viable: no known conversion from 'itensor::AutoMPO' to 'const itensor::CMatrixRef' (aka 'const\n",
      "      itensor::TenRef<itensor::MatRangeT<0>, std::complex<double> >') for 1st argument\u001b[0m\n",
      "operator+=(CMatrixRef const& A, CMatrix && B);\n",
      "\u001b[0;1;32m^\n",
      "\u001b[0m\u001b[1m/home/slava/itensor/itensor/iqtensor.h:45:1: \u001b[0m\u001b[0;1;30mnote: \u001b[0mcandidate function not viable: no known conversion from 'itensor::AutoMPO' to 'itensor::IQTensor &'\n",
      "      (aka 'ITensorT<itensor::IQIndex> &') for 1st argument\u001b[0m\n",
      "operator+=(IQTensor& A, ITensor const& B);\n",
      "\u001b[0;1;32m^\n",
      "\u001b[0m\u001b[1m/home/slava/itensor/itensor/mps/autompo.h:214:5: \u001b[0m\u001b[0;1;30mnote: \u001b[0mcandidate template ignored: couldn't infer template argument 'T'\u001b[0m\n",
      "    operator+=(T x) { return Accumulator(this,x); }\n",
      "\u001b[0;1;32m    ^\n",
      "\u001b[0m\u001b[1m/home/slava/itensor/itensor/tensor/ten_impl.h:169:1: \u001b[0m\u001b[0;1;30mnote: \u001b[0mcandidate template ignored: could not match 'TenRef<type-parameter-0-0, type-parameter-0-2>' against 'itensor::AutoMPO'\u001b[0m\n",
      "operator+=(TenRef<R1,T> const& A, TenRefc<R2,T> const& B)\n",
      "\u001b[0;1;32m^\n",
      "\u001b[0m\u001b[1m/home/slava/itensor/itensor/tensor/ten_impl.h:176:1: \u001b[0m\u001b[0;1;30mnote: \u001b[0mcandidate template ignored: could not match 'TenRef<type-parameter-0-0, type-parameter-0-1>' against 'itensor::AutoMPO'\u001b[0m\n",
      "operator+=(TenRef<R,T> const& A, Ten<Range,T> const& B)\n",
      "\u001b[0;1;32m^\n",
      "\u001b[0m\u001b[1m/home/slava/itensor/itensor/tensor/ten_impl.h:183:1: \u001b[0m\u001b[0;1;30mnote: \u001b[0mcandidate template ignored: could not match 'Ten<itensor::RangeT<unsigned long, 0>, type-parameter-0-1>' against\n",
      "      'itensor::AutoMPO'\u001b[0m\n",
      "operator+=(Ten<Range,T> & A, TenRefc<R,T> const& B)\n",
      "\u001b[0;1;32m^\n",
      "\u001b[0m"
     ]
    },
    {
     "ename": "Interpreter Error",
     "evalue": "",
     "output_type": "error",
     "traceback": [
      "Interpreter Error: "
     ]
    }
   ],
   "source": [
    "ampo += {0.5,\"S+\",1,\"S-\",2};"
   ]
  },
  {
   "cell_type": "code",
   "execution_count": 2,
   "metadata": {},
   "outputs": [],
   "source": [
    "int N = 10;\n",
    "SpinHalf sites(N);\n",
    "AutoMPO ampo(sites);\n",
    "for(int j = 1; j < N;++j)\n",
    "  {\n",
    "  ampo += 0.5,\"S+\",j,\"S-\",j+1;\n",
    "  ampo += 0.5,\"S-\",j,\"S+\",j+1;\n",
    "  ampo +=     \"Sz\",j,\"Sz\",j+1;\n",
    "  }\n",
    "auto H = MPO(ampo);"
   ]
  },
  {
   "cell_type": "code",
   "execution_count": 4,
   "metadata": {},
   "outputs": [],
   "source": [
    "args.insert(args.begin(), 1);"
   ]
  },
  {
   "cell_type": "code",
   "execution_count": 5,
   "metadata": {},
   "outputs": [],
   "source": [
    "args.insert(args.begin(),\"I\");"
   ]
  },
  {
   "cell_type": "code",
   "execution_count": 6,
   "metadata": {},
   "outputs": [],
   "source": [
    "args.insert(args.begin(), 1);"
   ]
  },
  {
   "cell_type": "code",
   "execution_count": 7,
   "metadata": {},
   "outputs": [
    {
     "data": {
      "text/plain": [
       "{ @0x5569c91f33c0, @0x5569c9194aa0, @0x5569c7bf4360 }"
      ]
     },
     "execution_count": 7,
     "metadata": {},
     "output_type": "execute_result"
    }
   ],
   "source": [
    "args"
   ]
  },
  {
   "cell_type": "code",
   "execution_count": 2,
   "metadata": {},
   "outputs": [],
   "source": [
    "int N_mode = 4;\n",
    "auto sites = SpinHalf(N_mode);\n",
    "auto ampo = AutoMPO(sites);"
   ]
  },
  {
   "cell_type": "code",
   "execution_count": 3,
   "metadata": {},
   "outputs": [],
   "source": [
    "ampo += 1,\"Sx\",2;"
   ]
  },
  {
   "cell_type": "code",
   "execution_count": 5,
   "metadata": {},
   "outputs": [],
   "source": [
    "auto mpo = MPO(ampo);"
   ]
  },
  {
   "cell_type": "code",
   "execution_count": 2,
   "metadata": {},
   "outputs": [],
   "source": [
    "struct RetValH {\n",
    "  SpinHalf sites;\n",
    "  MPO H;\n",
    "};\n",
    "struct RetValDMRG {\n",
    "  SpinHalf sites;\n",
    "  MPS psi;\n",
    "};\n",
    "Args::global();"
   ]
  },
  {
   "cell_type": "code",
   "execution_count": 3,
   "metadata": {},
   "outputs": [],
   "source": [
    "RetValH get_H_SSH(int const& N_mode, Args const& args = Args::global())\n",
    "{   \n",
    "    char op1[] = \"Sx\";\n",
    "    char op2[] = \"Sy\";\n",
    "    int ind1 = 1;\n",
    "    int ind2 = 2;\n",
    "    Complex coef = 1;\n",
    "    \n",
    "    float t_p = args.getReal(\"t_p\",1);\n",
    "    float t_m = args.getReal(\"t_m\",0);\n",
    "    float B = args.getReal(\"B\",0);\n",
    "    auto sites = SpinHalf(N_mode);\n",
    "\n",
    "    auto ampo = AutoMPO(sites);\n",
    "    for(int j = 1; j < N_mode; ++j)\n",
    "        {\n",
    "        coef = 4*(t_p + pow(-1,j-1)*t_m);\n",
    "        ampo += coef,op1,j,op1,j+1;\n",
    "//         ampo += coef,op1,ind1,op2,ind2;\n",
    "        ampo += coef,op2,j,op2,j+1;\n",
    "//         ampo += coef,\"Sx\",j;\n",
    "        }\n",
    "    \n",
    "    if (B !=0 )\n",
    "        {\n",
    "        ampo += B,\"Sz\",1;\n",
    "        ampo += B,\"Sz\",N_mode;\n",
    "        }\n",
    "    return {sites, MPO(ampo)};\n",
    "}"
   ]
  },
  {
   "cell_type": "code",
   "execution_count": 4,
   "metadata": {},
   "outputs": [],
   "source": [
    "RetValDMRG dmrg_ssh(int const& N_mode, Args const& args = Args::global())\n",
    "{   \n",
    "    auto ret_val_H = get_H_SSH(N_mode, args);\n",
    "    auto sites = ret_val_H.sites;\n",
    "\n",
    "    auto H = ret_val_H.H;\n",
    "\n",
    "    //Set up random initial wavefunction\n",
    "    auto psi = MPS(sites);\n",
    "\n",
    "    //Perform 5 sweeps of DMRG\n",
    "    auto sweeps = Sweeps(5);\n",
    "    //Specify max number of states kept each sweep\n",
    "    sweeps.maxm() = 50, 50, 100, 100, 200;\n",
    "\n",
    "    dmrg(psi,H,sweeps,{\"Silent\",true});\n",
    "\n",
    "    //Continue to analyze wavefunction afterward \n",
    "//     Real energy = overlap(psi,H,psi);\n",
    "\n",
    "    return {sites, psi};\n",
    "}"
   ]
  },
  {
   "cell_type": "code",
   "execution_count": 5,
   "metadata": {},
   "outputs": [],
   "source": [
    "array_type get_correlators(MPS psi, SiteSet sites, std::string op_name)\n",
    "{   \n",
    "    ITensor C, C_j;\n",
    "\n",
    "    int N_mode = sites.N();\n",
    "    \n",
    "    size_t N_C = (N_mode*(N_mode-1))/2;\n",
    "//     static float correlators[N_C] = {};\n",
    "    shape_type shape = {N_C};\n",
    "    array_type correlators(shape);\n",
    "    \n",
    "    int k = 0;\n",
    "    for(int i = 1; i < N_mode; ++i){\n",
    "\n",
    "        psi.position(i);\n",
    "        auto S_i = sites.op(op_name,i);\n",
    "\n",
    "\n",
    "        // Calculate first correlator at site i\n",
    "        C = psi.A(i);\n",
    "        C *= S_i;\n",
    "        auto ir = commonIndex(psi.A(i),psi.A(i+1),Link);\n",
    "        C *= dag(prime(prime(psi.A(i),Site),ir));\n",
    "\n",
    "        for(int j = i+1; j <= N_mode; ++j){\n",
    "\n",
    "            // Common operation\n",
    "            C *= psi.A(j);\n",
    "\n",
    "            // Calculate second correlator at site j\n",
    "            auto S_j = sites.op(op_name,j);\n",
    "            C_j = C*S_j;\n",
    "            auto il = commonIndex(psi.A(j),psi.A(j-1),Link);\n",
    "            C_j *=  dag(prime(prime(psi.A(j),Site),il));\n",
    "\n",
    "            correlators(k) = 4*C_j.real();\n",
    "//             println(correlators(k));\n",
    "            k+=1;\n",
    "    //         // Continue contraction\n",
    "            C *= dag(prime(psi.A(j),Link));    \n",
    "            }\n",
    "        }\n",
    "    \n",
    "    return correlators;\n",
    "}"
   ]
  },
  {
   "cell_type": "code",
   "execution_count": 6,
   "metadata": {},
   "outputs": [],
   "source": [
    "array_type get_SSH_correlators(int const& N_mode, Args const& args = Args::global())\n",
    "{   \n",
    "    auto ret_val_dmrg = dmrg_ssh(N_mode, args);\n",
    "    MPS psi = ret_val_dmrg.psi;\n",
    "    auto sites = ret_val_dmrg.sites;\n",
    "\n",
    "    array_type correlators_x = get_correlators(psi, sites, \"Sx\");\n",
    "    array_type correlators_y = get_correlators(psi, sites, \"Sy\");\n",
    "    \n",
    "    int N_C = (N_mode*(N_mode-1))/2;\n",
    "    for(int j = 0; j < N_C; ++j){\n",
    "        correlators_x(j) += correlators_y(j);\n",
    "    }\n",
    "//     for(int j = 1; j <= N_C; ++j){\n",
    "//         println(correlators_x(j));\n",
    "//     }\n",
    "    return correlators_x;\n",
    "}"
   ]
  },
  {
   "cell_type": "code",
   "execution_count": 7,
   "metadata": {},
   "outputs": [],
   "source": [
    "int N_mode = 10;\n",
    "\n",
    "auto args = Args(\"t_p=\",1,\n",
    "                 \"t_m=\",0,\n",
    "                 \"B=\",0.1);\n",
    "\n",
    "array_type correlators = get_SSH_correlators(N_mode, args)"
   ]
  },
  {
   "cell_type": "code",
   "execution_count": 8,
   "metadata": {},
   "outputs": [
    {
     "data": {
      "text/plain": [
       "0.857127"
      ]
     },
     "execution_count": 8,
     "metadata": {},
     "output_type": "execute_result"
    }
   ],
   "source": [
    "correlators(1)"
   ]
  },
  {
   "cell_type": "code",
   "execution_count": 14,
   "metadata": {},
   "outputs": [
    {
     "data": {
      "text/plain": [
       "@0x5606241679f0"
      ]
     },
     "execution_count": 14,
     "metadata": {},
     "output_type": "execute_result"
    }
   ],
   "source": [
    "get_SSH_correlators(N_mode, args)"
   ]
  },
  {
   "cell_type": "code",
   "execution_count": 9,
   "metadata": {},
   "outputs": [
    {
     "name": "stdout",
     "output_type": "stream",
     "text": [
      "0.857127\n",
      "-0.818818\n",
      "0.580918\n",
      "-0.580918\n",
      "0.436829\n",
      "-0.457192\n",
      "0.318235\n",
      "-0.370756\n",
      "-1.00011\n",
      "0.746897\n",
      "-0.529885\n",
      "0.507746\n",
      "-0.381721\n",
      "0.394076\n",
      "-0.274256\n",
      "0.318237\n",
      "-1.49362\n",
      "0.812571\n",
      "-0.778547\n",
      "0.557157\n",
      "-0.575068\n",
      "0.394078\n",
      "-0.457194\n",
      "-1.08799\n",
      "0.793979\n",
      "-0.568127\n",
      "0.557156\n",
      "-0.381723\n",
      "0.436829\n",
      "-1.45942\n",
      "0.793979\n",
      "-0.778547\n",
      "0.50775\n",
      "-0.580918\n",
      "-1.08799\n",
      "0.812571\n",
      "-0.529884\n",
      "0.580919\n",
      "-1.49362\n",
      "0.746897\n",
      "-0.818818\n",
      "-1.00011\n",
      "0.857127\n",
      "-1.71447\n",
      "7.16395e-322\n"
     ]
    }
   ],
   "source": [
    "int N_C = (N_mode*(N_mode-1))/2;\n",
    "for(int j = 1; j <= N_C; ++j){\n",
    "    println(correlators[j]);\n",
    "}"
   ]
  },
  {
   "cell_type": "code",
   "execution_count": 9,
   "metadata": {},
   "outputs": [
    {
     "name": "stdout",
     "output_type": "stream",
     "text": [
      "0.857127\n",
      "-0.818818\n",
      "0.580918\n",
      "-0.580919\n",
      "0.436829\n",
      "-0.457193\n",
      "0.318235\n",
      "-0.370756\n",
      "-1.00011\n",
      "0.746896\n",
      "-0.529885\n",
      "0.507746\n",
      "-0.381721\n",
      "0.394075\n",
      "-0.274255\n",
      "0.318237\n",
      "-1.49362\n",
      "0.812571\n",
      "-0.778547\n",
      "0.557156\n",
      "-0.575064\n",
      "0.394076\n",
      "-0.457194\n",
      "-1.08799\n",
      "0.793979\n",
      "-0.568127\n",
      "0.557154\n",
      "-0.381722\n",
      "0.436829\n",
      "-1.45942\n",
      "0.793979\n",
      "-0.778547\n",
      "0.50775\n",
      "-0.580918\n",
      "-1.08799\n",
      "0.812571\n",
      "-0.529884\n",
      "0.580919\n",
      "-1.49362\n",
      "0.746897\n",
      "-0.818818\n",
      "-1.00011\n",
      "0.857127\n",
      "-1.71447\n",
      "4.79244e-322\n"
     ]
    }
   ],
   "source": [
    "int N_C = (N_mode*(N_mode-1))/2;\n",
    "for(int j = 1; j <= N_C; ++j){\n",
    "    println(correlators[j]);\n",
    "}"
   ]
  },
  {
   "cell_type": "code",
   "execution_count": 6,
   "metadata": {},
   "outputs": [],
   "source": [
    "#include \"xtensor/xarray.hpp\"\n",
    "#include <array>\n",
    "\n",
    "using namespace xt;"
   ]
  },
  {
   "cell_type": "code",
   "execution_count": 7,
   "metadata": {},
   "outputs": [],
   "source": [
    "xarray<double>::shape_type shape2 = {10};"
   ]
  },
  {
   "cell_type": "code",
   "execution_count": 8,
   "metadata": {},
   "outputs": [],
   "source": [
    "xarray<double> a4(shape2);"
   ]
  },
  {
   "cell_type": "code",
   "execution_count": 32,
   "metadata": {},
   "outputs": [],
   "source": [
    "a2(1) = 1;\n",
    "a2(2) = 2;"
   ]
  },
  {
   "cell_type": "code",
   "execution_count": 36,
   "metadata": {},
   "outputs": [
    {
     "data": {
      "text/plain": [
       "1.10556e+161"
      ]
     },
     "execution_count": 36,
     "metadata": {},
     "output_type": "execute_result"
    }
   ],
   "source": [
    "a2(3)"
   ]
  },
  {
   "cell_type": "code",
   "execution_count": 1,
   "metadata": {},
   "outputs": [],
   "source": [
    "#include <vector>\n",
    "#include \"xtensor/xarray.hpp\"\n",
    "\n",
    "std::vector<size_t> shape = { 3, 2, 4 };\n",
    "xt::xarray<double, xt::layout_type::row_major> a(shape);"
   ]
  },
  {
   "cell_type": "code",
   "execution_count": 7,
   "metadata": {},
   "outputs": [
    {
     "data": {
      "text/plain": [
       "-nan"
      ]
     },
     "execution_count": 7,
     "metadata": {},
     "output_type": "execute_result"
    }
   ],
   "source": [
    "a[2]"
   ]
  },
  {
   "cell_type": "code",
   "execution_count": 1,
   "metadata": {},
   "outputs": [],
   "source": [
    "#include <vector>"
   ]
  },
  {
   "cell_type": "code",
   "execution_count": 2,
   "metadata": {},
   "outputs": [],
   "source": [
    "using namespace std;\n"
   ]
  },
  {
   "cell_type": "code",
   "execution_count": 3,
   "metadata": {},
   "outputs": [],
   "source": [
    "static int m3 = 3"
   ]
  },
  {
   "cell_type": "code",
   "execution_count": 4,
   "metadata": {},
   "outputs": [],
   "source": [
    "std::vector<double> a(m3);"
   ]
  },
  {
   "cell_type": "code",
   "execution_count": 11,
   "metadata": {},
   "outputs": [
    {
     "name": "stderr",
     "output_type": "stream",
     "text": [
      "\u001b[1minput_line_22:2:2: \u001b[0m\u001b[0;1;31merror: \u001b[0m\u001b[1muse of undeclared identifier 'println'\u001b[0m\n",
      " println(a[1])\n",
      "\u001b[0;1;32m ^\n",
      "\u001b[0m"
     ]
    },
    {
     "ename": "Interpreter Error",
     "evalue": "",
     "output_type": "error",
     "traceback": [
      "Interpreter Error: "
     ]
    }
   ],
   "source": [
    "println(a[1])"
   ]
  },
  {
   "cell_type": "code",
   "execution_count": 9,
   "metadata": {},
   "outputs": [
    {
     "data": {
      "text/plain": [
       "0"
      ]
     },
     "execution_count": 9,
     "metadata": {},
     "output_type": "execute_result"
    }
   ],
   "source": [
    "a[1]"
   ]
  },
  {
   "cell_type": "code",
   "execution_count": 49,
   "metadata": {},
   "outputs": [],
   "source": [
    "a3[0] = 1;\n",
    "a3[1] = 2;\n",
    "a3[8] = 3;\n",
    "a3[12] = 4;"
   ]
  },
  {
   "cell_type": "code",
   "execution_count": 54,
   "metadata": {},
   "outputs": [
    {
     "data": {
      "text/plain": [
       "4.00193e-322"
      ]
     },
     "execution_count": 54,
     "metadata": {},
     "output_type": "execute_result"
    }
   ],
   "source": [
    "a3[11]"
   ]
  },
  {
   "cell_type": "code",
   "execution_count": 3,
   "metadata": {},
   "outputs": [
    {
     "name": "stderr",
     "output_type": "stream",
     "text": [
      "\u001b[1minput_line_9:2:5: \u001b[0m\u001b[0;1;31merror: \u001b[0m\u001b[1mno template named 'vector'; did you mean 'std::vector'?\u001b[0m\n",
      "    vector<double> out(10);\n",
      "\u001b[0;1;32m    ^~~~~~\n",
      "\u001b[0m\u001b[0;32m    std::vector\n",
      "\u001b[0m\u001b[1m/home/slava/miniconda3/bin/../lib/gcc/x86_64-conda_cos6-linux-gnu/7.3.0/../../../../x86_64-conda_cos6-linux-gnu/include/c++/7.3.0/bits/stl_vector.h:216:11: \u001b[0m\u001b[0;1;30mnote: \u001b[0m'std::vector' declared here\u001b[0m\n",
      "    class vector : protected _Vector_base<_Tp, _Alloc>\n",
      "\u001b[0;1;32m          ^\n",
      "\u001b[0m"
     ]
    },
    {
     "ename": "Interpreter Error",
     "evalue": "",
     "output_type": "error",
     "traceback": [
      "Interpreter Error: "
     ]
    }
   ],
   "source": [
    "std::vector<double> f(){\n",
    "    vector<double> out(10);\n",
    "    return out;\n",
    "}"
   ]
  },
  {
   "cell_type": "code",
   "execution_count": 57,
   "metadata": {},
   "outputs": [],
   "source": [
    "vector<double> x = f()"
   ]
  },
  {
   "cell_type": "code",
   "execution_count": 63,
   "metadata": {},
   "outputs": [
    {
     "data": {
      "text/plain": [
       "10"
      ]
     },
     "execution_count": 63,
     "metadata": {},
     "output_type": "execute_result"
    }
   ],
   "source": [
    "x[9] = 10"
   ]
  },
  {
   "cell_type": "code",
   "execution_count": 1,
   "metadata": {},
   "outputs": [],
   "source": [
    "int x = 10"
   ]
  },
  {
   "cell_type": "code",
   "execution_count": 2,
   "metadata": {},
   "outputs": [
    {
     "name": "stderr",
     "output_type": "stream",
     "text": [
      "\u001b[1minput_line_8:2:2: \u001b[0m\u001b[0;1;31merror: \u001b[0m\u001b[1mcannot delete expression of type 'int'\u001b[0m\n",
      " delete x\n",
      "\u001b[0;1;32m ^      ~\n",
      "\u001b[0m"
     ]
    },
    {
     "ename": "Interpreter Error",
     "evalue": "",
     "output_type": "error",
     "traceback": [
      "Interpreter Error: "
     ]
    }
   ],
   "source": [
    "delete x"
   ]
  }
 ],
 "metadata": {
  "celltoolbar": "Initialization Cell",
  "kernelspec": {
   "display_name": "C++14",
   "language": "C++14",
   "name": "xcpp14"
  },
  "language_info": {
   "codemirror_mode": "text/x-c++src",
   "file_extension": ".cpp",
   "mimetype": "text/x-c++src",
   "name": "c++",
   "version": "-std=c++14"
  },
  "toc": {
   "base_numbering": 1,
   "nav_menu": {},
   "number_sections": true,
   "sideBar": true,
   "skip_h1_title": false,
   "title_cell": "Table of Contents",
   "title_sidebar": "Contents",
   "toc_cell": false,
   "toc_position": {},
   "toc_section_display": true,
   "toc_window_display": true
  }
 },
 "nbformat": 4,
 "nbformat_minor": 2
}

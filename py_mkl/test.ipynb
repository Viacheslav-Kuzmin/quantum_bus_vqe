{
 "cells": [
  {
   "cell_type": "code",
   "execution_count": 4,
   "metadata": {
    "init_cell": true
   },
   "outputs": [],
   "source": [
    "from qutip import *\n",
    "import numpy as np\n",
    "import scipy as sp"
   ]
  },
  {
   "cell_type": "code",
   "execution_count": 7,
   "metadata": {
    "init_cell": true
   },
   "outputs": [],
   "source": [
    "from py_mkl.py_mkl import py_mkl_sparse_z_mm, py_mkl_sparse_z_mv, py_mkl_sparse_d_mm, \\\n",
    "py_mkl_sparse_d_mv, py_cblas_zgemm, py_cblas_zgemm_vec"
   ]
  },
  {
   "cell_type": "markdown",
   "metadata": {
    "heading_collapsed": true
   },
   "source": [
    "# Old methods"
   ]
  },
  {
   "cell_type": "code",
   "execution_count": 5,
   "metadata": {
    "hidden": true
   },
   "outputs": [],
   "source": [
    "from ctypes import POINTER,c_int,c_char,c_double, byref\n",
    "from numpy import ctypeslib\n",
    "import qutip.settings as qset\n",
    "\n",
    "dcsrmm = qset.mkl_lib.mkl_dcsrmm\n",
    "\n",
    "def mkl_dspmm_old(A, B, alpha=1.0, beta = 0.0):\n",
    "    \"\"\"\n",
    "    sparse matrix * dense matrix using MKL dcsrmm\n",
    "    \"\"\"\n",
    "    (m,k) = A.shape\n",
    "    (bk,n) = B.shape\n",
    "    if k != bk:\n",
    "        raise Exception('A and B dims are incompatible')\n",
    "\n",
    "    # Allocate output, using same conventions as input    \n",
    "    C = np.zeros((m,n),dtype=np.float64,order='C')\n",
    "\n",
    "    np_B = B.ctypes.data_as(ctypeslib.ndpointer(np.float64, ndim=2, flags='C'))\n",
    "    np_C = C.ctypes.data_as(ctypeslib.ndpointer(np.float64, ndim=2, flags='C'))\n",
    "\n",
    "    # Pointers to data of the matrix\n",
    "    data    = A.data.ctypes.data_as(ctypeslib.ndpointer(np.float64, ndim=1, flags='C'))\n",
    "    pointerB = A.indptr[:-1]\n",
    "    pointerE = A.indptr[1:]\n",
    "    np_pointerB = pointerB.ctypes.data_as(POINTER(c_int))\n",
    "    np_pointerE = pointerE.ctypes.data_as(POINTER(c_int))\n",
    "    indices = A.indices.ctypes.data_as(POINTER(c_int))\n",
    "\n",
    "    matdescra = np.chararray(6)\n",
    "    matdescra[0] = 'G'#G-general, S-symmetric, H-hermitian\n",
    "    matdescra[1] = 'L'\n",
    "    matdescra[2] = 'N'\n",
    "    matdescra[3] = 'C'\n",
    "    np_matdescra = matdescra.ctypes.data_as(POINTER(c_char))\n",
    "\n",
    "    # now call MKL\n",
    "    dcsrmm(byref(c_char(bytes(b'N'))), \n",
    "          byref(c_int(m)),\n",
    "          byref(c_int(n)),\n",
    "          byref(c_int(k)),\n",
    "          byref(c_double(alpha)),\n",
    "          np_matdescra,\n",
    "          data,\n",
    "          indices,\n",
    "          np_pointerB,\n",
    "          np_pointerE,\n",
    "          np_B,\n",
    "          byref(c_int(n)),\n",
    "          byref(c_double(beta)),\n",
    "          np_C,\n",
    "          byref(c_int(n))) \n",
    "\n",
    "    return C\n",
    "\n",
    "\n",
    "zcsrmm = qset.mkl_lib.mkl_zcsrmm\n",
    "\n",
    "def mkl_zspmm_old(A, B, alpha=1.0, beta = 0.0):\n",
    "    \"\"\"\n",
    "    sparse matrix * dense matrix using MKL dcsrmm\n",
    "    \"\"\"\n",
    "    (m,k) = A.shape\n",
    "    (bk,n) = B.shape\n",
    "    if k != bk:\n",
    "        raise Exception('A and B dims are incompatible')\n",
    "\n",
    "    # Allocate output, using same conventions as input    \n",
    "    C = np.zeros((m,n),dtype=np.complex,order='C')\n",
    "\n",
    "    np_B = B.ctypes.data_as(ctypeslib.ndpointer(np.complex, ndim=2, flags='C'))\n",
    "    np_C = C.ctypes.data_as(ctypeslib.ndpointer(np.complex, ndim=2, flags='C'))\n",
    "\n",
    "    # Pointers to data of the matrix\n",
    "    data    = A.data.ctypes.data_as(ctypeslib.ndpointer(np.complex, ndim=1, flags='C'))\n",
    "    pointerB = A.indptr[:-1]\n",
    "    pointerE = A.indptr[1:]\n",
    "    np_pointerB = pointerB.ctypes.data_as(POINTER(c_int))\n",
    "    np_pointerE = pointerE.ctypes.data_as(POINTER(c_int))\n",
    "    indices = A.indices.ctypes.data_as(POINTER(c_int))\n",
    "\n",
    "    matdescra = np.chararray(6)\n",
    "    matdescra[0] = 'G'#G-general, S-symmetric, H-hermitian\n",
    "    matdescra[1] = 'L'\n",
    "    matdescra[2] = 'N'\n",
    "    matdescra[3] = 'C'\n",
    "    np_matdescra = matdescra.ctypes.data_as(POINTER(c_char))\n",
    "\n",
    "    # now call MKL\n",
    "    zcsrmm(byref(c_char(bytes(b'N'))), \n",
    "          byref(c_int(m)),\n",
    "          byref(c_int(n)),\n",
    "          byref(c_int(k)),\n",
    "          byref(c_double(alpha)),\n",
    "          np_matdescra,\n",
    "          data,\n",
    "          indices,\n",
    "          np_pointerB,\n",
    "          np_pointerE,\n",
    "          np_B,\n",
    "          byref(c_int(n)),\n",
    "          byref(c_double(beta)),\n",
    "          np_C,\n",
    "          byref(c_int(n))) \n",
    "\n",
    "    return C\n",
    "\n",
    "zcsrgemv = qset.mkl_lib.mkl_cspblas_zcsrgemv\n",
    "\n",
    "def mkl_zspmv_old(A, x):\n",
    "    \"\"\"\n",
    "    sparse csr_spmv using MKL\n",
    "    \"\"\"\n",
    "    (m,n) = A.shape\n",
    "\n",
    "    # Pointers to data of the matrix\n",
    "    data = A.data.ctypes.data_as(ctypeslib.ndpointer(np.complex128, ndim=1, flags='C'))\n",
    "    indptr = A.indptr.ctypes.data_as(POINTER(c_int))\n",
    "    indices = A.indices.ctypes.data_as(POINTER(c_int))\n",
    "\n",
    "    # Allocate output, using same conventions as input\n",
    "    if x.ndim is 1:\n",
    "        y = np.empty(m,dtype=np.complex, order='C')\n",
    "    elif x.ndim==2 and x.shape[1]==1:\n",
    "        y = np.empty((m,1),dtype=np.complex, order='C')\n",
    "    else:\n",
    "        raise Exception('Input vector must be 1D row or 2D column vector')\n",
    "\n",
    "    np_x = x.ctypes.data_as(ctypeslib.ndpointer(np.complex128, ndim=1, flags='C'))\n",
    "    np_y = y.ctypes.data_as(ctypeslib.ndpointer(np.complex128, ndim=1, flags='C'))\n",
    "\n",
    "    # now call MKL. This returns the answer in np_y, which points to y\n",
    "    zcsrgemv(byref(c_char(bytes(b'N'))), byref(c_int(m)), data ,indptr, indices, np_x, np_y ) \n",
    "    return y\n",
    "\n",
    "dcsrgemv = qset.mkl_lib.mkl_cspblas_dcsrgemv\n",
    "def mkl_dspmv_old(A, x, is_trnsa = False):\n",
    "    \"\"\"\n",
    "    sparse csr_spmv using MKL\n",
    "    \"\"\"\n",
    "    (m,n) = A.shape\n",
    "\n",
    "    # Pointers to data of the matrix\n",
    "    data = A.data.ctypes.data_as(ctypeslib.ndpointer(np.float64, ndim=1, flags='C'))\n",
    "    indptr = A.indptr.ctypes.data_as(POINTER(c_int))\n",
    "    indices = A.indices.ctypes.data_as(POINTER(c_int))\n",
    "\n",
    "    # Allocate output, using same conventions as input\n",
    "    if x.ndim is 1:\n",
    "        y = np.empty(m,dtype=np.float64, order='C')\n",
    "    elif x.ndim==2 and x.shape[1]==1:\n",
    "        y = np.empty((m,1),dtype=np.float64, order='C')\n",
    "    else:\n",
    "        raise Exception('Input vector must be 1D row or 2D column vector')\n",
    "\n",
    "    np_x = x.ctypes.data_as(ctypeslib.ndpointer(np.float64, ndim=1, flags='C'))\n",
    "    np_y = y.ctypes.data_as(ctypeslib.ndpointer(np.float64, ndim=1, flags='C'))\n",
    "\n",
    "    \n",
    "    if is_trnsa:\n",
    "        transa = c_char(bytes(b'T'))\n",
    "    else:\n",
    "        transa = c_char(bytes(b'N'))\n",
    "        \n",
    "    # now call MKL. This returns the answer in np_y, which points to y\n",
    "    dcsrgemv(byref(transa), byref(c_int(m)), data ,indptr, indices, np_x, np_y ) \n",
    "    return y"
   ]
  },
  {
   "cell_type": "markdown",
   "metadata": {},
   "source": [
    "# New methods"
   ]
  },
  {
   "cell_type": "code",
   "execution_count": 8,
   "metadata": {
    "init_cell": true
   },
   "outputs": [],
   "source": [
    "def mkl_zspmm(A, B, alpha=1.0, beta = 0.0):\n",
    "    \"\"\"\n",
    "    sparse matrix * dense matrix using MKL dcsrmm\n",
    "    \"\"\"\n",
    "    (m,k) = A.shape\n",
    "    (bk,n) = B.shape\n",
    "    if k != bk:\n",
    "        raise Exception('A and B dims are incompatible')\n",
    "\n",
    "    # Allocate output, using same conventions as input    \n",
    "    C = np.zeros((m,n),dtype=np.complex,order='C')\n",
    " \n",
    "    py_mkl_sparse_z_mm(A.data, A.indptr, A.indices, B, C, alpha, beta)\n",
    "    \n",
    "    return C\n",
    "\n",
    "def mkl_zspmv(A, B, alpha=1.0, beta = 0.0):\n",
    "    \"\"\"\n",
    "    sparse matrix * dense matrix using MKL dcsrmm\n",
    "    \"\"\"\n",
    "    (m,k) = A.shape\n",
    "    (bk,n) = B.shape\n",
    "    if n!=1:\n",
    "        raise Exception('B has to be a vector')\n",
    "    if k != bk:\n",
    "        raise Exception('A and B dims are incompatible')\n",
    "    n = B.shape[0]\n",
    "    # Allocate output, using same conventions as input    \n",
    "    C = np.zeros((m,1),dtype=np.complex,order='C')\n",
    " \n",
    "    py_mkl_sparse_z_mv(A.data, A.indptr, A.indices, B, C, alpha, beta)\n",
    "    \n",
    "    return C\n",
    "\n",
    "\n",
    "def mkl_dspmm(A, B, alpha=1.0, beta = 0.0):\n",
    "    \"\"\"\n",
    "    sparse matrix * dense matrix using MKL dcsrmm\n",
    "    \"\"\"\n",
    "    (m,k) = A.shape\n",
    "    (bk,n) = B.shape\n",
    "    if k != bk:\n",
    "        raise Exception('A and B dims are incompatible')\n",
    "\n",
    "    # Allocate output, using same conventions as input    \n",
    "    C = np.zeros((m,n),dtype=np.float64,order='C')\n",
    " \n",
    "    py_mkl_sparse_d_mm(A.data, A.indptr, A.indices, B, C, alpha, beta)\n",
    "    \n",
    "    return C\n",
    "\n",
    "def mkl_dspmv(A, B, alpha=1.0, beta = 0.0):\n",
    "    \"\"\"\n",
    "    sparse matrix * dense matrix using MKL dcsrmm\n",
    "    \"\"\"\n",
    "    (m,k) = A.shape\n",
    "    (bk,n) = B.shape\n",
    "    if n!=1:\n",
    "        raise Exception('B has to be a vector')\n",
    "    if k != bk:\n",
    "        raise Exception('A and B dims are incompatible')\n",
    "    n = B.shape[0]\n",
    "    # Allocate output, using same conventions as input    \n",
    "    C = np.zeros((m,1),dtype=np.float64,order='C')\n",
    " \n",
    "    py_mkl_sparse_d_mv(A.data, A.indptr, A.indices, B, C, alpha, beta)\n",
    "    \n",
    "    return C\n",
    "\n",
    "def cblas_zgemm(A, B, alpha=1.0, beta = 0.0):\n",
    "    \"\"\"\n",
    "    sparse matrix * dense matrix using MKL dcsrmm\n",
    "    \"\"\"\n",
    "    (m,k) = A.shape\n",
    "    (bk,n) = B.shape\n",
    "    if k != bk:\n",
    "        raise Exception('A and B dims are incompatible')\n",
    "    n = B.shape[0]\n",
    "    # Allocate output, using same conventions as input    \n",
    "    C = np.zeros((m,n),dtype=complex,order='C')\n",
    " \n",
    "    py_cblas_zgemm(A, B, C)\n",
    "    \n",
    "    return C\n",
    "\n",
    "def cblas_zgemm_vec(A, B_vec, alpha=1.0, beta = 0.0):\n",
    "    \"\"\"\n",
    "    sparse matrix * dense matrix using MKL dcsrmm\n",
    "    \"\"\"\n",
    "#     (m,k) = A.shape\n",
    "#     (bk,n) = B.shape\n",
    "#     if k != bk:\n",
    "#         raise Exception('A and B dims are incompatible')\n",
    "#     n = B.shape[0]\n",
    "    # Allocate output, using same conventions as input    \n",
    "    C_vec = np.zeros(B_vec.shape,dtype=complex,order='C')\n",
    " \n",
    "    py_cblas_zgemm_vec(A, B_vec, C_vec)\n",
    "    \n",
    "    return C_vec\n",
    "\n",
    "def check_if_equal(*args):\n",
    "    n = len(args)\n",
    "    rand_ar_1 = np.random.rand(n)\n",
    "    rand_ar_1 /= sum(rand_ar_1)\n",
    "\n",
    "    rand_ar_2 = np.random.rand(n)\n",
    "    rand_ar_2 /= sum(rand_ar_2)\n",
    "    \n",
    "    S = 0\n",
    "    for i in range(n):\n",
    "        S += rand_ar_1[i] * args[i] - rand_ar_2[i] * args[i]\n",
    "    \n",
    "    return np.linalg.norm(S)"
   ]
  },
  {
   "cell_type": "markdown",
   "metadata": {},
   "source": [
    "# Test dense"
   ]
  },
  {
   "cell_type": "code",
   "execution_count": 4,
   "metadata": {},
   "outputs": [],
   "source": [
    "N = 2000\n",
    "A = np.random.rand(N,N)*(1+0.j)\n",
    "B = np.random.rand(N,N)*(1+0.j)"
   ]
  },
  {
   "cell_type": "code",
   "execution_count": 5,
   "metadata": {},
   "outputs": [
    {
     "data": {
      "text/plain": [
       "0.0"
      ]
     },
     "execution_count": 5,
     "metadata": {},
     "output_type": "execute_result"
    }
   ],
   "source": [
    "C = np.dot(A,B)\n",
    "C_mkl = cblas_zgemm(A, B)\n",
    "np.linalg.norm(C_mkl-C)"
   ]
  },
  {
   "cell_type": "code",
   "execution_count": 6,
   "metadata": {},
   "outputs": [
    {
     "name": "stdout",
     "output_type": "stream",
     "text": [
      "274 ms ± 1.92 ms per loop (mean ± std. dev. of 7 runs, 1 loop each)\n",
      "283 ms ± 39.9 µs per loop (mean ± std. dev. of 7 runs, 1 loop each)\n"
     ]
    }
   ],
   "source": [
    "%timeit cblas_zgemm(A, B)\n",
    "%timeit np.dot(A,B)"
   ]
  },
  {
   "cell_type": "markdown",
   "metadata": {},
   "source": [
    "## Multiple product"
   ]
  },
  {
   "cell_type": "code",
   "execution_count": 24,
   "metadata": {},
   "outputs": [],
   "source": [
    "N = 100\n",
    "N_b = 100\n",
    "A = np.random.rand(N,N)*(1+0.j)\n",
    "B_vec = np.random.rand(N_b,N,N)*(1+0.j)"
   ]
  },
  {
   "cell_type": "code",
   "execution_count": 25,
   "metadata": {},
   "outputs": [
    {
     "data": {
      "text/plain": [
       "0.0"
      ]
     },
     "execution_count": 25,
     "metadata": {},
     "output_type": "execute_result"
    }
   ],
   "source": [
    "C_list = [np.dot(A,B) for B in B_vec]\n",
    "C_mkl = cblas_zgemm_vec(A, B_vec)\n",
    "sum(np.linalg.norm(C_mkl[i]-C_list[i]) for i in range(N_b))"
   ]
  },
  {
   "cell_type": "code",
   "execution_count": 26,
   "metadata": {},
   "outputs": [
    {
     "name": "stdout",
     "output_type": "stream",
     "text": [
      "5.1 ms ± 2.64 µs per loop (mean ± std. dev. of 7 runs, 100 loops each)\n",
      "5.37 ms ± 289 µs per loop (mean ± std. dev. of 7 runs, 100 loops each)\n"
     ]
    }
   ],
   "source": [
    "%timeit [np.dot(A,B) for B in B_vec]\n",
    "%timeit cblas_zgemm_vec(A, B_vec)"
   ]
  },
  {
   "cell_type": "markdown",
   "metadata": {
    "heading_collapsed": true
   },
   "source": [
    "# Test sparse"
   ]
  },
  {
   "cell_type": "code",
   "execution_count": 4,
   "metadata": {
    "hidden": true
   },
   "outputs": [],
   "source": [
    "N = 1000\n",
    "mat_dense_d = np.random.rand(N,N)\n",
    "vec_dense_d = np.random.rand(N,1)\n",
    "mat_sparse_d = sp.sparse.random(N,N,format='csr')\n",
    "\n",
    "mat_dense_z = mat_dense_d * (1.+0.j)\n",
    "vec_dense_z = vec_dense_d * (1.+0.j)\n",
    "mat_sparse_z = mat_sparse_d * (1.+0.j)"
   ]
  },
  {
   "cell_type": "code",
   "execution_count": 7,
   "metadata": {
    "hidden": true
   },
   "outputs": [
    {
     "data": {
      "text/plain": [
       "6.054820134685158e-15"
      ]
     },
     "execution_count": 7,
     "metadata": {},
     "output_type": "execute_result"
    }
   ],
   "source": [
    "check_if_equal(\n",
    "    mkl_zspmm(mat_sparse_z, vec_dense_z),\n",
    "    mkl_zspmv(mat_sparse_z, vec_dense_z),\n",
    "#     mkl_dspmm(mat_sparse_d, vec_dense_d),\n",
    "    mkl_dspmv(mat_sparse_d, vec_dense_d)\n",
    ")"
   ]
  },
  {
   "cell_type": "code",
   "execution_count": null,
   "metadata": {
    "hidden": true
   },
   "outputs": [],
   "source": [
    "check_if_equal(\n",
    "    mkl_zspmm(mat_sparse_z, mat_dense_z),\n",
    "    mkl_dspmm(mat_sparse_d, mat_dense_d)\n",
    ")"
   ]
  },
  {
   "cell_type": "code",
   "execution_count": 54,
   "metadata": {
    "hidden": true
   },
   "outputs": [
    {
     "name": "stdout",
     "output_type": "stream",
     "text": [
      "20.7 µs ± 1.35 µs per loop (mean ± std. dev. of 7 runs, 10000 loops each)\n",
      "10.9 µs ± 155 ns per loop (mean ± std. dev. of 7 runs, 100000 loops each)\n",
      "8.16 µs ± 57.1 ns per loop (mean ± std. dev. of 7 runs, 100000 loops each)\n"
     ]
    }
   ],
   "source": [
    "%timeit mkl_zspmm(mat_sparse_z, vec_dense_z)\n",
    "%timeit mkl_zspmv(mat_sparse_z, vec_dense_z)\n",
    "# %timeit mkl_dspmm(mat_sparse_d, vec_dense_d)\n",
    "%timeit mkl_dspmv(mat_sparse_d, vec_dense_d)"
   ]
  },
  {
   "cell_type": "code",
   "execution_count": 8,
   "metadata": {
    "hidden": true
   },
   "outputs": [
    {
     "name": "stdout",
     "output_type": "stream",
     "text": [
      "12.1 µs ± 414 ns per loop (mean ± std. dev. of 7 runs, 100000 loops each)\n",
      "8.15 µs ± 404 ns per loop (mean ± std. dev. of 7 runs, 100000 loops each)\n",
      "6.41 µs ± 99 ns per loop (mean ± std. dev. of 7 runs, 100000 loops each)\n"
     ]
    }
   ],
   "source": [
    "%timeit mkl_zspmm(mat_sparse_z, vec_dense_z)\n",
    "%timeit mkl_zspmv(mat_sparse_z, vec_dense_z)\n",
    "# %timeit mkl_dspmm(mat_sparse_d, vec_dense_d)\n",
    "%timeit mkl_dspmv(mat_sparse_d, vec_dense_d)"
   ]
  },
  {
   "cell_type": "code",
   "execution_count": 55,
   "metadata": {
    "hidden": true
   },
   "outputs": [
    {
     "name": "stdout",
     "output_type": "stream",
     "text": [
      "6.03 ms ± 38.5 µs per loop (mean ± std. dev. of 7 runs, 100 loops each)\n",
      "2.01 ms ± 21.2 µs per loop (mean ± std. dev. of 7 runs, 100 loops each)\n"
     ]
    }
   ],
   "source": [
    "%timeit mkl_zspmm(mat_sparse_z, mat_dense_z)\n",
    "%timeit mkl_dspmm(mat_sparse_d, mat_dense_d)"
   ]
  },
  {
   "cell_type": "code",
   "execution_count": 9,
   "metadata": {
    "hidden": true
   },
   "outputs": [
    {
     "name": "stdout",
     "output_type": "stream",
     "text": [
      "5.27 ms ± 18.3 µs per loop (mean ± std. dev. of 7 runs, 100 loops each)\n",
      "1.64 ms ± 513 ns per loop (mean ± std. dev. of 7 runs, 1000 loops each)\n"
     ]
    }
   ],
   "source": [
    "%timeit mkl_zspmm(mat_sparse_z, mat_dense_z)\n",
    "%timeit mkl_dspmm(mat_sparse_d, mat_dense_d)"
   ]
  },
  {
   "cell_type": "code",
   "execution_count": null,
   "metadata": {
    "hidden": true
   },
   "outputs": [],
   "source": [
    "mkl_dspmm(mat_sparse_d, mat_dense_d)"
   ]
  },
  {
   "cell_type": "code",
   "execution_count": null,
   "metadata": {
    "hidden": true
   },
   "outputs": [],
   "source": [
    "\n",
    "\n",
    "\n",
    "\n",
    "\n",
    "\n",
    "\n",
    "\n",
    "\n",
    "\n",
    "\n",
    "\n",
    "\n",
    "\n",
    "\n",
    "\n",
    "\n",
    "\n"
   ]
  }
 ],
 "metadata": {
  "celltoolbar": "Initialization Cell",
  "kernelspec": {
   "display_name": "Python 3",
   "language": "python",
   "name": "python3"
  },
  "language_info": {
   "codemirror_mode": {
    "name": "ipython",
    "version": 3
   },
   "file_extension": ".py",
   "mimetype": "text/x-python",
   "name": "python",
   "nbconvert_exporter": "python",
   "pygments_lexer": "ipython3",
   "version": "3.6.6"
  },
  "toc": {
   "base_numbering": 1,
   "nav_menu": {
    "height": "12px",
    "width": "252px"
   },
   "number_sections": true,
   "sideBar": true,
   "skip_h1_title": false,
   "title_cell": "Table of Contents",
   "title_sidebar": "Contents",
   "toc_cell": false,
   "toc_position": {},
   "toc_section_display": "block",
   "toc_window_display": true
  }
 },
 "nbformat": 4,
 "nbformat_minor": 2
}
